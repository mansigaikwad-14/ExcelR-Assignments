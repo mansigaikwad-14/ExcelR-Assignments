{
 "cells": [
  {
   "cell_type": "code",
   "execution_count": 1,
   "metadata": {},
   "outputs": [],
   "source": [
    "##Q1"
   ]
  },
  {
   "cell_type": "code",
   "execution_count": 2,
   "metadata": {},
   "outputs": [
    {
     "name": "stdout",
     "output_type": "stream",
     "text": [
      "Probability that servicing time exceeds 60 minutes: 0.030396361765261393\n",
      "Probability that servicing time exceeds 50 minutes: 0.26598552904870054\n"
     ]
    }
   ],
   "source": [
    "from scipy.stats import norm\n",
    "mean = 45 \n",
    "std_dev = 8  \n",
    "cutoff_time = 60 \n",
    "available_time = 50 \n",
    "\n",
    "# Calculate the z-score \n",
    "z_cutoff = (cutoff_time - mean) / std_dev\n",
    "z_available = (available_time - mean) / std_dev\n",
    "\n",
    "probability_cutoff = 1 - norm.cdf(z_cutoff)\n",
    "probability_available = 1 - norm.cdf(z_available)\n",
    "\n",
    "print(\"Probability that servicing time exceeds 60 minutes:\", probability_cutoff)\n",
    "print(\"Probability that servicing time exceeds 50 minutes:\", probability_available)\n"
   ]
  },
  {
   "cell_type": "code",
   "execution_count": 3,
   "metadata": {},
   "outputs": [],
   "source": [
    "##Q2a"
   ]
  },
  {
   "cell_type": "code",
   "execution_count": 4,
   "metadata": {},
   "outputs": [
    {
     "data": {
      "text/plain": [
       "False"
      ]
     },
     "execution_count": 4,
     "metadata": {},
     "output_type": "execute_result"
    }
   ],
   "source": [
    "from scipy.stats import norm\n",
    "mean = 38\n",
    "std = 6\n",
    "\n",
    "prob_44 = 1 - norm.cdf(44, loc=mean, scale=std)\n",
    "prob_38_and_44 = norm.cdf(44, loc=mean, scale=std) - norm.cdf(38, loc=mean, scale=std)\n",
    "\n",
    "more_than_44 = prob_44 > prob_38_and_44\n",
    "more_than_44\n"
   ]
  },
  {
   "cell_type": "code",
   "execution_count": 5,
   "metadata": {},
   "outputs": [],
   "source": [
    "##Q2b"
   ]
  },
  {
   "cell_type": "code",
   "execution_count": 7,
   "metadata": {},
   "outputs": [
    {
     "data": {
      "text/plain": [
       "36.484487890347154"
      ]
     },
     "execution_count": 7,
     "metadata": {},
     "output_type": "execute_result"
    }
   ],
   "source": [
    "prob_under_30 = norm.cdf(30, loc=mean, scale=std)\n",
    "\n",
    "employees_under_30 = prob_under_30 * 400\n",
    "employees_under_30\n"
   ]
  },
  {
   "cell_type": "code",
   "execution_count": 8,
   "metadata": {},
   "outputs": [],
   "source": [
    "##Q4"
   ]
  },
  {
   "cell_type": "code",
   "execution_count": 9,
   "metadata": {},
   "outputs": [
    {
     "data": {
      "text/plain": [
       "(53.4, 146.6)"
      ]
     },
     "execution_count": 9,
     "metadata": {},
     "output_type": "execute_result"
    }
   ],
   "source": [
    "mean = 100\n",
    "std = 20\n",
    "a = mean - 2.33 * std\n",
    "b = mean + 2.33 * std\n",
    "a, b\n"
   ]
  },
  {
   "cell_type": "code",
   "execution_count": 10,
   "metadata": {},
   "outputs": [],
   "source": [
    "##Q5a"
   ]
  },
  {
   "cell_type": "code",
   "execution_count": 15,
   "metadata": {},
   "outputs": [
    {
     "data": {
      "text/plain": [
       "((-273.9345448052279, 723.9345448052279),\n",
       " (-256.6013295995732, 886.6013295995732))"
      ]
     },
     "execution_count": 15,
     "metadata": {},
     "output_type": "execute_result"
    }
   ],
   "source": [
    "conversion_rate = 45\n",
    "mean1 = 5 * conversion_rate\n",
    "std1 = (32 ** 0.5) * conversion_rate\n",
    "mean2 = 7 * conversion_rate\n",
    "std2 = (42 ** 0.5) * conversion_rate\n",
    "\n",
    "rupee_range1 = (mean1 - 1.96 * std1, mean1 + 1.96 * std1)\n",
    "rupee_range2 = (mean2 - 1.96 * std2, mean2 + 1.96 * std2)\n",
    "\n",
    "rupee_range1, rupee_range2\n"
   ]
  },
  {
   "cell_type": "code",
   "execution_count": 12,
   "metadata": {},
   "outputs": [],
   "source": [
    "##Q5b"
   ]
  },
  {
   "cell_type": "code",
   "execution_count": 16,
   "metadata": {},
   "outputs": [
    {
     "data": {
      "text/plain": [
       "(-193.71137532360274, -164.69414293986853)"
      ]
     },
     "execution_count": 16,
     "metadata": {},
     "output_type": "execute_result"
    }
   ],
   "source": [
    "from scipy.stats import norm\n",
    "percentile_5th1 = norm.ppf(0.05, loc=mean1, scale=std1)\n",
    "percentile_5th2 = norm.ppf(0.05, loc=mean2, scale=std2)\n",
    "\n",
    "percentile_5th1, percentile_5th2\n"
   ]
  },
  {
   "cell_type": "code",
   "execution_count": 17,
   "metadata": {},
   "outputs": [],
   "source": [
    "##Q5c"
   ]
  },
  {
   "cell_type": "code",
   "execution_count": 18,
   "metadata": {},
   "outputs": [
    {
     "data": {
      "text/plain": [
       "(0.188379558905791, 0.14004360540574873)"
      ]
     },
     "execution_count": 18,
     "metadata": {},
     "output_type": "execute_result"
    }
   ],
   "source": [
    "# Probability of making a loss calculation\n",
    "prob_loss1 = norm.cdf(0, loc=mean1, scale=std1)\n",
    "prob_loss2 = norm.cdf(0, loc=mean2, scale=std2)\n",
    "\n",
    "prob_loss1, prob_loss2\n"
   ]
  },
  {
   "cell_type": "code",
   "execution_count": 19,
   "metadata": {},
   "outputs": [],
   "source": [
    "##Q3"
   ]
  },
  {
   "cell_type": "code",
   "execution_count": 24,
   "metadata": {},
   "outputs": [
    {
     "data": {
      "image/png": "[encoded data removed]",
      "text/plain": [
       "<Figure size 864x288 with 2 Axes>"
      ]
     },
     "metadata": {
      "needs_background": "light"
     },
     "output_type": "display_data"
    }
   ],
   "source": [
    "import numpy as np\n",
    "import matplotlib.pyplot as plt\n",
    "plt.figure(figsize=(12, 4))\n",
    "\n",
    "mu = 0  \n",
    "sigma = 1  \n",
    "num_samples = 100000  \n",
    "\n",
    "X1 = np.random.normal(mu, sigma, num_samples)\n",
    "X2 = np.random.normal(mu, sigma, num_samples)\n",
    "two_X1 = 2 * X1\n",
    "sum_X1_X2 = X1 + X2\n",
    "\n",
    "plt.subplot(1, 2, 1)\n",
    "plt.hist(two_X1, bins=50, density=True, alpha=0.6, color='g', label='2X1')\n",
    "plt.title('Distribution of 2X1')\n",
    "plt.xlabel('Value')\n",
    "plt.ylabel('Density')\n",
    "plt.legend()\n",
    "\n",
    "plt.subplot(1, 2, 2)\n",
    "plt.hist(sum_X1_X2, bins=50, density=True, alpha=0.6, color='b', label='X1 + X2')\n",
    "plt.title('Distribution of X1 + X2')\n",
    "plt.xlabel('Value')\n",
    "plt.ylabel('Density')\n",
    "plt.legend()\n",
    "\n",
    "plt.tight_layout()\n",
    "plt.show()\n"
   ]
  },
  {
   "cell_type": "code",
   "execution_count": null,
   "metadata": {},
   "outputs": [],
   "source": []
  }
 ],
 "metadata": {
  "kernelspec": {
   "display_name": "Python 3",
   "language": "python",
   "name": "python3"
  },
  "language_info": {
   "codemirror_mode": {
    "name": "ipython",
    "version": 3
   },
   "file_extension": ".py",
   "mimetype": "text/x-python",
   "name": "python",
   "nbconvert_exporter": "python",
   "pygments_lexer": "ipython3",
   "version": "3.8.5"
  }
 },
 "nbformat": 4,
 "nbformat_minor": 4
}
