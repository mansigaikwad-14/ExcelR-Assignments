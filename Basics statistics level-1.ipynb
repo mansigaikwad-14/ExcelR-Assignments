{
 "cells": [
  {
   "cell_type": "markdown",
   "metadata": {},
   "source": [
    "# Q.3"
   ]
  },
  {
   "cell_type": "code",
   "execution_count": 3,
   "metadata": {},
   "outputs": [
    {
     "name": "stdout",
     "output_type": "stream",
     "text": [
      "Total possible outcomes: 8\n",
      "Number of favorable outcomes (two heads and one tail): 9\n",
      "Probability of getting two heads and one tail: 1.125\n"
     ]
    }
   ],
   "source": [
    "from itertools import combinations\n",
    "total_outcomes = 2 ** 3\n",
    "coin_outcomes = ['H', 'T']\n",
    "all_combinations = list(combinations(coin_outcomes * 3, 3))\n",
    "favorable_outcomes = 0\n",
    "for combination in all_combinations:\n",
    "    if combination.count('H') == 2 and combination.count('T') == 1:\n",
    "        favorable_outcomes += 1\n",
    "\n",
    "\n",
    "probability = favorable_outcomes / total_outcomes\n",
    "\n",
    "\n",
    "print(\"Total possible outcomes:\", total_outcomes)\n",
    "print(\"Number of favorable outcomes (two heads and one tail):\", favorable_outcomes)\n",
    "print(\"Probability of getting two heads and one tail:\", probability)\n"
   ]
  },
  {
   "cell_type": "markdown",
   "metadata": {},
   "source": [
    "# Q.4"
   ]
  },
  {
   "cell_type": "code",
   "execution_count": 4,
   "metadata": {},
   "outputs": [
    {
     "name": "stdout",
     "output_type": "stream",
     "text": [
      "a) Probability of sum equal to 1: 0\n",
      "b) Probability of sum less than or equal to 4: 0.16666666666666666\n",
      "c) Probability of sum divisible by 2 and 3: 0.1388888888888889\n"
     ]
    }
   ],
   "source": [
    "total_outcomes = 6 * 6  # Two dice with 6 faces each\n",
    "probability_a = 0\n",
    "favorable_outcomes_b = 6  # There are 6 favorable outcomes\n",
    "probability_b = favorable_outcomes_b / total_outcomes\n",
    "favorable_outcomes_c = 5  # There are 5 favorable outcomes\n",
    "probability_c = favorable_outcomes_c / total_outcomes\n",
    "\n",
    "print(\"a) Probability of sum equal to 1:\", probability_a)\n",
    "print(\"b) Probability of sum less than or equal to 4:\", probability_b)\n",
    "print(\"c) Probability of sum divisible by 2 and 3:\", probability_c)"
   ]
  },
  {
   "cell_type": "code",
   "execution_count": 5,
   "metadata": {},
   "outputs": [],
   "source": [
    "import numpy as np\n",
    "import pandas as pd"
   ]
  },
  {
   "cell_type": "markdown",
   "metadata": {},
   "source": [
    "# Q.5"
   ]
  },
  {
   "cell_type": "code",
   "execution_count": 7,
   "metadata": {},
   "outputs": [
    {
     "data": {
      "text/plain": [
       "0.47619047619047616"
      ]
     },
     "execution_count": 7,
     "metadata": {},
     "output_type": "execute_result"
    }
   ],
   "source": [
    "from math import comb\n",
    "total_non_blue_balls = 2 + 3  \n",
    "# Total number of ways to draw 2 balls out of non-blue balls\n",
    "non_blue_balls = comb(total_non_blue_balls, 2)\n",
    "\n",
    "# Total number of balls in the bag\n",
    "total_balls = 2 + 3 + 2  # 2 red, 3 green, and 2 blue balls\n",
    "\n",
    "# Total number of ways to draw 2 balls out of all balls\n",
    "total_ways_to_draw = comb(total_balls, 2)\n",
    "\n",
    "# Probability that none of the balls drawn is blue\n",
    "probability = non_blue_balls / total_ways_to_draw\n",
    "\n",
    "probability"
   ]
  },
  {
   "cell_type": "code",
   "execution_count": 8,
   "metadata": {},
   "outputs": [],
   "source": [
    "##Q6"
   ]
  },
  {
   "cell_type": "code",
   "execution_count": 11,
   "metadata": {},
   "outputs": [
    {
     "data": {
      "text/plain": [
       "3.09"
      ]
     },
     "execution_count": 11,
     "metadata": {},
     "output_type": "execute_result"
    }
   ],
   "source": [
    "count = [1, 4, 3, 5, 6, 2]\n",
    "probab= [0.015, 0.20, 0.65, 0.005, 0.01, 0.120]\n",
    "\n",
    "# Calculate the expected number of candies\n",
    "expected = sum(count * prob for count, prob in zip(count, probab))\n",
    "\n",
    "expected"
   ]
  },
  {
   "cell_type": "code",
   "execution_count": 12,
   "metadata": {},
   "outputs": [],
   "source": [
    "##Q7"
   ]
  },
  {
   "cell_type": "code",
   "execution_count": 18,
   "metadata": {},
   "outputs": [
    {
     "name": "stdout",
     "output_type": "stream",
     "text": [
      "Mean:\n",
      "Unnamed: 0          NaN\n",
      "Points         3.596563\n",
      "Score          3.217250\n",
      "Weigh         17.848750\n",
      "dtype: float64\n",
      "\n",
      "Median:\n",
      "Unnamed: 0       NaN\n",
      "Points         3.695\n",
      "Score          3.325\n",
      "Weigh         17.710\n",
      "dtype: float64\n",
      "\n",
      "Mode:\n",
      "Unnamed: 0      NaN\n",
      "Points         3.07\n",
      "Score          3.44\n",
      "Weigh         17.02\n",
      "Name: 0, dtype: float64\n",
      "\n",
      "Variance:\n",
      "Unnamed: 0         NaN\n",
      "Points        0.285881\n",
      "Score         0.957379\n",
      "Weigh         3.193166\n",
      "dtype: float64\n",
      "\n",
      "Standard Deviation:\n",
      "Unnamed: 0         NaN\n",
      "Points        0.534679\n",
      "Score         0.978457\n",
      "Weigh         1.786943\n",
      "dtype: float64\n",
      "\n",
      "Range:\n",
      "Unnamed: 0      NaN\n",
      "Points        2.170\n",
      "Score         3.911\n",
      "Weigh         8.400\n",
      "dtype: float64\n"
     ]
    }
   ],
   "source": [
    "import pandas as pd\n",
    "import statistics\n",
    "data = pd.read_csv(r'C:\\Users\\hp\\Downloads\\Q7.csv')\n",
    "data.fillna(0, inplace=True)\n",
    "\n",
    "data = data.apply(pd.to_numeric, errors='coerce')\n",
    "\n",
    "# Calculate Mean, Median, Mode, Variance, Standard Deviation, and Range\n",
    "mean = data.mean()\n",
    "median = data.median()\n",
    "mode = data.mode().iloc[0] \n",
    "variance = data.var()\n",
    "std_deviation = data.std()\n",
    "data_range = data.max() - data.min()\n",
    "\n",
    "# Print the calculated statistics\n",
    "print(\"Mean:\")\n",
    "print(mean)\n",
    "print(\"\\nMedian:\")\n",
    "print(median)\n",
    "print(\"\\nMode:\")\n",
    "print(mode)\n",
    "print(\"\\nVariance:\")\n",
    "print(variance)\n",
    "print(\"\\nStandard Deviation:\")\n",
    "print(std_deviation)\n",
    "print(\"\\nRange:\")\n",
    "print(data_range)\n"
   ]
  },
  {
   "cell_type": "code",
   "execution_count": 19,
   "metadata": {},
   "outputs": [],
   "source": [
    "##Q.8"
   ]
  },
  {
   "cell_type": "code",
   "execution_count": 20,
   "metadata": {},
   "outputs": [
    {
     "data": {
      "text/plain": [
       "145.33333333333334"
      ]
     },
     "execution_count": 20,
     "metadata": {},
     "output_type": "execute_result"
    }
   ],
   "source": [
    "weights = [108, 110, 123, 134, 135, 145, 167, 187, 199]\n",
    "\n",
    "# Calculate the expected value\n",
    "expected_value = sum(weights) / len(weights)\n",
    "\n",
    "expected_value"
   ]
  },
  {
   "cell_type": "code",
   "execution_count": null,
   "metadata": {},
   "outputs": [],
   "source": [
    "##Q9"
   ]
  },
  {
   "cell_type": "code",
   "execution_count": 23,
   "metadata": {},
   "outputs": [
    {
     "name": "stdout",
     "output_type": "stream",
     "text": [
      "Skewness of Speed: -0.11395477012828319\n",
      "Skewness of Dist: 0.7824835173114966\n",
      "Kurtosis of Speed: -0.5771474239437371\n",
      "Kurtosis of Dist: 0.24801865717051808\n"
     ]
    }
   ],
   "source": [
    "import pandas as pd\n",
    "from scipy.stats import skew, kurtosis\n",
    "\n",
    "data = pd.read_csv(r'C:\\Users\\hp\\Downloads\\Q9_a.csv')\n",
    "\n",
    "# Calculate skewness and kurtosis for the 'speed' and 'dist' columns\n",
    "speed_skewness = skew(data['speed'])\n",
    "dist_skewness = skew(data['dist'])\n",
    "speed_kurtosis = kurtosis(data['speed'])\n",
    "dist_kurtosis = kurtosis(data['dist'])\n",
    "\n",
    "print(\"Skewness of Speed:\", speed_skewness)\n",
    "print(\"Skewness of Dist:\", dist_skewness)\n",
    "print(\"Kurtosis of Speed:\", speed_kurtosis)\n",
    "print(\"Kurtosis of Dist:\", dist_kurtosis)\n"
   ]
  },
  {
   "cell_type": "code",
   "execution_count": null,
   "metadata": {},
   "outputs": [],
   "source": [
    "##Q9b"
   ]
  },
  {
   "cell_type": "code",
   "execution_count": 24,
   "metadata": {},
   "outputs": [
    {
     "name": "stdout",
     "output_type": "stream",
     "text": [
      "Skewness of Speed (SP): 1.581453679442373\n",
      "Skewness of Weight (WT): -0.6033099322115126\n",
      "Kurtosis of Speed (SP): 2.7235214865269173\n",
      "Kurtosis of Weight (WT): 0.8194658792266849\n"
     ]
    }
   ],
   "source": [
    "import pandas as pd\n",
    "from scipy.stats import skew, kurtosis\n",
    "data = pd.read_csv(r'C:\\Users\\hp\\Downloads\\Q9_b.csv')\n",
    "\n",
    "# Calculate skewness and kurtosis for the 'SP' and 'WT' columns\n",
    "speed_skewness = skew(data['SP'])\n",
    "weight_skewness = skew(data['WT'])\n",
    "speed_kurtosis = kurtosis(data['SP'])\n",
    "weight_kurtosis = kurtosis(data['WT'])\n",
    "\n",
    "print(\"Skewness of Speed (SP):\", speed_skewness)\n",
    "print(\"Skewness of Weight (WT):\", weight_skewness)\n",
    "print(\"Kurtosis of Speed (SP):\", speed_kurtosis)\n",
    "print(\"Kurtosis of Weight (WT):\", weight_kurtosis)\n"
   ]
  },
  {
   "cell_type": "code",
   "execution_count": null,
   "metadata": {},
   "outputs": [],
   "source": [
    "##Q11"
   ]
  },
  {
   "cell_type": "code",
   "execution_count": 25,
   "metadata": {},
   "outputs": [
    {
     "data": {
      "text/plain": [
       "{94: (198.73885766069012, 201.26114233930988),\n",
       " 98: (198.43698848372765, 201.56301151627235),\n",
       " 96: (198.82606431181262, 201.17393568818738)}"
      ]
     },
     "execution_count": 25,
     "metadata": {},
     "output_type": "execute_result"
    }
   ],
   "source": [
    "import math\n",
    "#Given\n",
    "sample_mean = 200 \n",
    "sample_std_dev = 30  \n",
    "sample_size = 2000  \n",
    "\n",
    "# Critical Z-scores for different confidence levels\n",
    "z_scores = {94: 1.88, 98: 2.33, 96: 1.75}\n",
    "\n",
    "standard_error = sample_std_dev / math.sqrt(sample_size)\n",
    "\n",
    "# Calculate confidence intervals for different confidence levels\n",
    "confidence_intervals = {}\n",
    "for confidence_level, z_score in z_scores.items():\n",
    "    margin_of_error = z_score * standard_error\n",
    "    lower_bound = sample_mean - margin_of_error\n",
    "    upper_bound = sample_mean + margin_of_error\n",
    "    confidence_intervals[confidence_level] = (lower_bound, upper_bound)\n",
    "\n",
    "confidence_intervals\n"
   ]
  },
  {
   "cell_type": "code",
   "execution_count": null,
   "metadata": {},
   "outputs": [],
   "source": [
    "##Q12"
   ]
  },
  {
   "cell_type": "code",
   "execution_count": 26,
   "metadata": {},
   "outputs": [
    {
     "data": {
      "text/plain": [
       "(41, 40.5, 25.529411764705884, 5.05266382858645)"
      ]
     },
     "execution_count": 26,
     "metadata": {},
     "output_type": "execute_result"
    }
   ],
   "source": [
    "import statistics\n",
    "\n",
    "scores = [34, 36, 36, 38, 38, 39, 39, 40, 40, 41, 41, 41, 41, 42, 42, 45, 49, 56]\n",
    "\n",
    "# Calculate mean, median, variance, and standard deviation\n",
    "mean_score = statistics.mean(scores)\n",
    "median_score = statistics.median(scores)\n",
    "variance_score = statistics.variance(scores)\n",
    "std_dev_score = statistics.stdev(scores)\n",
    "\n",
    "mean_score, median_score, variance_score, std_dev_score\n"
   ]
  },
  {
   "cell_type": "code",
   "execution_count": null,
   "metadata": {},
   "outputs": [],
   "source": [
    "##20"
   ]
  },
  {
   "cell_type": "code",
   "execution_count": 28,
   "metadata": {},
   "outputs": [
    {
     "data": {
      "text/plain": [
       "0.47619047619047616"
      ]
     },
     "execution_count": 28,
     "metadata": {},
     "output_type": "execute_result"
    }
   ],
   "source": [
    "import pandas as pd\n",
    "import scipy.stats as stats\n",
    "\n",
    "Cars = pd.read_csv(r'C:\\Users\\hp\\Downloads\\Cars.csv')  \n",
    "mean_mpg = Cars['MPG'].mean()\n",
    "std_dev_mpg = Cars['MPG'].std()\n",
    "\n",
    "probability_gt_38 = 1 - stats.norm.cdf(38, loc=mean_mpg, scale=std_dev_mpg)\n",
    "\n",
    "probability\n"
   ]
  },
  {
   "cell_type": "code",
   "execution_count": null,
   "metadata": {},
   "outputs": [],
   "source": [
    "##21b"
   ]
  },
  {
   "cell_type": "code",
   "execution_count": 29,
   "metadata": {},
   "outputs": [
    {
     "data": {
      "image/png": "[encoded data removed]",
      "text/plain": [
       "<Figure size 864x360 with 2 Axes>"
      ]
     },
     "metadata": {
      "needs_background": "light"
     },
     "output_type": "display_data"
    },
    {
     "data": {
      "image/png": "[encoded data removed]",
      "text/plain": [
       "<Figure size 864x360 with 2 Axes>"
      ]
     },
     "metadata": {
      "needs_background": "light"
     },
     "output_type": "display_data"
    },
    {
     "data": {
      "text/plain": [
       "(0.0006539996829815209, 0.001170447445474565)"
      ]
     },
     "execution_count": 29,
     "metadata": {},
     "output_type": "execute_result"
    }
   ],
   "source": [
    "import pandas as pd\n",
    "import scipy.stats as stats\n",
    "import matplotlib.pyplot as plt\n",
    "import seaborn as sns\n",
    "\n",
    "data = pd.read_csv(r'C:\\Users\\hp\\Downloads\\wc-at.csv')\n",
    "\n",
    "at_data = data['AT']\n",
    "waist_data = data['Waist']\n",
    "\n",
    "# Shapiro-Wilk normality test for AT\n",
    "shapiro_at_stat, shapiro_at_p_value = stats.shapiro(at_data)\n",
    "\n",
    "shapiro_waist_stat, shapiro_waist_p_value = stats.shapiro(waist_data)\n",
    "\n",
    "plt.figure(figsize=(12, 5))\n",
    "plt.subplot(1, 2, 1)\n",
    "sns.histplot(at_data, kde=True)\n",
    "plt.title('Histogram of Adipose Tissue (AT)')\n",
    "plt.xlabel('AT')\n",
    "plt.ylabel('Frequency')\n",
    "\n",
    "plt.subplot(1, 2, 2)\n",
    "stats.probplot(at_data, dist=\"norm\", plot=plt)\n",
    "plt.title('Q-Q Plot of Adipose Tissue (AT)')\n",
    "\n",
    "plt.tight_layout()\n",
    "plt.show()\n",
    "\n",
    "plt.figure(figsize=(12, 5))\n",
    "plt.subplot(1, 2, 1)\n",
    "sns.histplot(waist_data, kde=True)\n",
    "plt.title('Histogram of Waist Circumference')\n",
    "plt.xlabel('Waist')\n",
    "plt.ylabel('Frequency')\n",
    "\n",
    "plt.subplot(1, 2, 2)\n",
    "stats.probplot(waist_data, dist=\"norm\", plot=plt)\n",
    "plt.title('Q-Q Plot of Waist Circumference')\n",
    "\n",
    "plt.tight_layout()\n",
    "plt.show()\n",
    "\n",
    "shapiro_at_p_value, shapiro_waist_p_value\n"
   ]
  },
  {
   "cell_type": "code",
   "execution_count": 30,
   "metadata": {},
   "outputs": [],
   "source": [
    "##Q.22"
   ]
  },
  {
   "cell_type": "code",
   "execution_count": 31,
   "metadata": {},
   "outputs": [
    {
     "data": {
      "text/plain": [
       "[1.6448536269514722, 1.8807936081512509, 0.8416212335729143]"
      ]
     },
     "execution_count": 31,
     "metadata": {},
     "output_type": "execute_result"
    }
   ],
   "source": [
    "from scipy.stats import norm\n",
    "confidence_intervals = [0.90, 0.94, 0.60]\n",
    "\n",
    "z_scores = [norm.ppf(1 - (1 - ci) / 2) for ci in confidence_intervals]\n",
    "z_scores\n"
   ]
  },
  {
   "cell_type": "code",
   "execution_count": 32,
   "metadata": {},
   "outputs": [],
   "source": [
    "##Q.23"
   ]
  },
  {
   "cell_type": "code",
   "execution_count": 34,
   "metadata": {},
   "outputs": [
    {
     "data": {
      "text/plain": [
       "[2.0638985616280205, 2.1715446760080677, 2.796939504772804]"
      ]
     },
     "execution_count": 34,
     "metadata": {},
     "output_type": "execute_result"
    }
   ],
   "source": [
    "from scipy.stats import t\n",
    "\n",
    "sample_size = 25\n",
    "confidence_levels = [0.95, 0.96, 0.99]\n",
    "\n",
    "df = sample_size - 1\n",
    "\n",
    "t_scores = [t.ppf(1 - (1 - ci) / 2, df=df) for ci in confidence_levels]\n",
    "\n",
    "# Display t-scores for the corresponding confidence intervals\n",
    "t_scores\n"
   ]
  },
  {
   "cell_type": "code",
   "execution_count": 35,
   "metadata": {},
   "outputs": [],
   "source": [
    "##q.24"
   ]
  },
  {
   "cell_type": "code",
   "execution_count": 36,
   "metadata": {},
   "outputs": [
    {
     "data": {
      "text/plain": [
       "0.32167253567098364"
      ]
     },
     "execution_count": 36,
     "metadata": {},
     "output_type": "execute_result"
    }
   ],
   "source": [
    "from scipy.stats import t\n",
    "population_mean = 270 \n",
    "sample_mean = 260  \n",
    "sample_std_dev = 90  \n",
    "sample_size = 18  \n",
    "\n",
    "\n",
    "df = sample_size - 1\n",
    "\n",
    "# Calculate the t-score\n",
    "t_score = (sample_mean - population_mean) / (sample_std_dev / (sample_size ** 0.5))\n",
    "\n",
    "# Calculate the probability using cumulative distribution function (CDF)\n",
    "probability = t.cdf(t_score, df=df)\n",
    "\n",
    "# Display the probability\n",
    "probability\n"
   ]
  },
  {
   "cell_type": "code",
   "execution_count": null,
   "metadata": {},
   "outputs": [],
   "source": []
  }
 ],
 "metadata": {
  "kernelspec": {
   "display_name": "Python 3",
   "language": "python",
   "name": "python3"
  },
  "language_info": {
   "codemirror_mode": {
    "name": "ipython",
    "version": 3
   },
   "file_extension": ".py",
   "mimetype": "text/x-python",
   "name": "python",
   "nbconvert_exporter": "python",
   "pygments_lexer": "ipython3",
   "version": "3.8.5"
  }
 },
 "nbformat": 4,
 "nbformat_minor": 4
}
